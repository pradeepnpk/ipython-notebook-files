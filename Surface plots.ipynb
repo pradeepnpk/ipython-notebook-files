{
 "metadata": {
  "name": ""
 },
 "nbformat": 3,
 "nbformat_minor": 0,
 "worksheets": [
  {
   "cells": [
    {
     "cell_type": "code",
     "collapsed": false,
     "input": [
      "from mpl_toolkits.mplot3d import Axes3D\n",
      "from matplotlib import cm\n",
      "from matplotlib.ticker import LinearLocator, FormatStrFormatter\n",
      "import matplotlib.pyplot as plt\n",
      "import numpy as np\n",
      "import seaborn as sns\n",
      "\n",
      "\n",
      "fig = plt.figure(figsize=(8,6))\n",
      "sns.set_context('notebook',font_scale=1.5)\n",
      "sns.set_style('ticks')\n",
      "ax = fig.gca(projection='3d')\n",
      "X = np.arange(-5, 5, 0.25)\n",
      "Y = np.arange(-5, 5, 0.25)\n",
      "X, Y = np.meshgrid(X, Y)\n",
      "R = np.sqrt(X**2 + Y**2)\n",
      "Z = np.sin(R)\n",
      "\n",
      "for axis in ['top','bottom','left','right']:\n",
      "  ax.spines[axis].set_linewidth(8.5)\n",
      "\n",
      "cmap = cm.get_cmap('PiYG', 11)\n",
      "\n",
      "# surf = ax.plot_surface(X, Y, Z, rstride=1, cstride=1, cmap=cmap,\n",
      "#                        linewidth=0, antialiased=False)\n",
      "\n",
      "cset = ax.contour(X, Y, Z, zdir='z', offset=-1, cmap=cm.coolwarm)\n",
      "cset = ax.contour(X, Y, Z, zdir='x', offset=-5, cmap=cm.coolwarm)\n",
      "cset = ax.contour(X, Y, Z, zdir='y', offset=5, cmap=cm.coolwarm)\n",
      "\n",
      "ax.set_zlim(-1.01, 1.01)\n",
      "ax.zaxis.set_major_locator(LinearLocator(10))\n",
      "ax.zaxis.set_major_formatter(FormatStrFormatter('%.02f'))\n",
      "plt.show()"
     ],
     "language": "python",
     "metadata": {},
     "outputs": [],
     "prompt_number": 11
    },
    {
     "cell_type": "code",
     "collapsed": false,
     "input": [],
     "language": "python",
     "metadata": {},
     "outputs": [],
     "prompt_number": 49
    },
    {
     "cell_type": "code",
     "collapsed": false,
     "input": [],
     "language": "python",
     "metadata": {},
     "outputs": [],
     "prompt_number": 50
    },
    {
     "cell_type": "code",
     "collapsed": false,
     "input": [],
     "language": "python",
     "metadata": {},
     "outputs": [],
     "prompt_number": 51
    },
    {
     "cell_type": "code",
     "collapsed": false,
     "input": [],
     "language": "python",
     "metadata": {},
     "outputs": [],
     "prompt_number": 58
    },
    {
     "cell_type": "code",
     "collapsed": false,
     "input": [],
     "language": "python",
     "metadata": {},
     "outputs": [
      {
       "ename": "NameError",
       "evalue": "name 'np' is not defined",
       "output_type": "pyerr",
       "traceback": [
        "\u001b[0;31m---------------------------------------------------------------------------\u001b[0m\n\u001b[0;31mNameError\u001b[0m                                 Traceback (most recent call last)",
        "\u001b[0;32m<ipython-input-3-3ec317365f62>\u001b[0m in \u001b[0;36m<module>\u001b[0;34m()\u001b[0m\n\u001b[0;32m----> 1\u001b[0;31m \u001b[0mx\u001b[0m \u001b[0;34m=\u001b[0m \u001b[0mnp\u001b[0m\u001b[0;34m.\u001b[0m\u001b[0msort\u001b[0m\u001b[0;34m(\u001b[0m\u001b[0;34m[\u001b[0m\u001b[0;36m1\u001b[0m\u001b[0;34m,\u001b[0m\u001b[0;36m2\u001b[0m\u001b[0;34m,\u001b[0m\u001b[0;36m3\u001b[0m\u001b[0;34m,\u001b[0m\u001b[0;36m4\u001b[0m\u001b[0;34m]\u001b[0m\u001b[0;34m)\u001b[0m\u001b[0;34m\u001b[0m\u001b[0m\n\u001b[0m",
        "\u001b[0;31mNameError\u001b[0m: name 'np' is not defined"
       ]
      }
     ],
     "prompt_number": 3
    },
    {
     "cell_type": "code",
     "collapsed": false,
     "input": [],
     "language": "python",
     "metadata": {},
     "outputs": []
    }
   ],
   "metadata": {}
  }
 ]
}