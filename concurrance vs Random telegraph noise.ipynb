{
 "metadata": {
  "name": ""
 },
 "nbformat": 3,
 "nbformat_minor": 0,
 "worksheets": [
  {
   "cells": [
    {
     "cell_type": "code",
     "collapsed": false,
     "input": [
      "################### UNDERSTANDING RANDOM TELEGRAPH NOISE EFFECTS ON QUANTUM SYSTEMS ###############################\n",
      "\n",
      "from qutip import *\n",
      "import numpy as np\n",
      "import matplotlib.pyplot as plt\n",
      "from cmath import pi, sin, cos, sqrt,exp; from math import radians\n",
      "import seaborn as sns;\tsns.set_style('ticks');sns.set_context('notebook',font_scale=1.5)\n",
      "\n",
      "#basis states:\n",
      "ket0 = basis(2,0)\n",
      "ket1 = basis(2,1)\n",
      "psip = (basis(2,0)+basis(2,1)).unit()\n",
      "psim = (basis(2,0)-basis(2,1)).unit()\n",
      "\n",
      "#effect on bell states\n",
      "Psi_bell = ket2dm((tensor(ket0,ket0)+tensor(ket1,ket1)).unit())\n",
      "Psi_bell1 = ket2dm((tensor(ket0,ket1)+tensor(ket1,ket0)).unit())\n",
      "\n",
      "def telegraph_noise(qstate,t):\n",
      "    freq=0.001;amp=50\n",
      "    nu = t*freq; mu = sqrt((2.0*amp*(1/freq))**2-1.0)\n",
      "    gamma = exp(-nu)*(np.cos(nu*mu)+np.sin(nu*mu)/mu)#np.cos handles complex argument as cosh. Alternatively, np.cosh can be used but im(mu) has to be obtained separately      \n",
      "    K1 = sqrt((1+gamma)/2)*qeye(2) ; K2 = sqrt((1-gamma)/2)*sigmax()\n",
      "    M1 = tensor(K1,K1); M2 = tensor(K2,K2); M3 = tensor(K1,K2); M4 = tensor(K2,K1)\n",
      "    dstate = M1*qstate*M1+M2*qstate*M2+M3*qstate*M3+M4*qstate*M4\n",
      "    return dstate\n",
      "\n",
      "def quantum_fidelity(rho1, rho2):\n",
      "    rho_ax = (rho1.sqrtm()*rho2*rho1.sqrtm()).sqrtm()\n",
      "    return (rho_ax.tr())**2"
     ],
     "language": "python",
     "metadata": {},
     "outputs": [],
     "prompt_number": 1
    },
    {
     "cell_type": "code",
     "collapsed": false,
     "input": [
      "rho_init = telegraph_noise(Psi_bell,0)\n",
      "rho_init_tau = telegraph_noise(Psi_bell,tau)\n",
      "fid_initial = quantum_fidelity(rho_init,rho_init_tau)\n",
      "fid=[]\n",
      "for t in range(0,101):\n",
      "    rho_final = telegraph_noise(Psi_bell,t)\n",
      "    rho_final_tau = telegraph_noise(Psi_bell,t+tau)\n",
      "    fid.append(quantum_fidelity(rho_final,rho_final_tau)-fid_initial)"
     ],
     "language": "python",
     "metadata": {},
     "outputs": [],
     "prompt_number": 79
    },
    {
     "cell_type": "code",
     "collapsed": false,
     "input": [
      "#----------------------------KERNAL--------------------------------------#\n",
      "#--------MARKOVIAN: a*tau<0.25---------NM: a*tau>0.25--------------------#\n",
      "def kernal(t):\n",
      "    freq=11.0;amp=0.1;tau=1/(2*freq)\n",
      "    coupling=(amp*tau)\n",
      "    nu = t*freq; mu = sqrt((2.0*amp*(1/freq))**2-1.0)\n",
      "    gamma = exp(-nu)*(np.cos(nu*mu)+np.sin(nu*mu)/mu)#np.cos handles complex argument as cosh. Alternatively, np.cosh can be used but im(mu) has to be obtained separately      \n",
      "    return abs(gamma), coupling\n",
      "KF=[]; coup=[]\n",
      "for l in np.arange(0,100):\n",
      "    g,c=kernal(l)\n",
      "    KF.append(g)  \n",
      "plt.plot(KF);plt.show()"
     ],
     "language": "python",
     "metadata": {},
     "outputs": [],
     "prompt_number": 2
    },
    {
     "cell_type": "code",
     "collapsed": false,
     "input": [
      "#concurrance vs tau\n",
      "def ConvsTau(qstate,tau):\n",
      "    t=1.0;a=1.0\n",
      "    nu = t/(2.0*tau); mu = sqrt((4*a*tau)**2-1)\n",
      "    gamma = exp(-nu)*(np.cos(nu*mu)+np.sin(nu*mu)/mu)\n",
      "      \n",
      "    K1 = sqrt((1+gamma)/2)*qeye(2) ; K2 = sqrt((1-gamma)/2)*sigmax()\n",
      "    M1 = tensor(K1,K1); M2 = tensor(K2,K2); M3 = tensor(K1,K2); M4 = tensor(K2,K1)\n",
      "    dstate = M1*qstate*M1+M2*qstate*M2+M3*qstate*M3+M4*qstate*M4\n",
      "    return entropy_vn(dstate)\n",
      "\n",
      "qt=[]\n",
      "for tau in np.arange(1,200,0.5):\n",
      "    qt.append(ConvsTau(Psi_bell,tau))\n",
      "plt.plot(qt);plt.show()"
     ],
     "language": "python",
     "metadata": {},
     "outputs": [],
     "prompt_number": 8
    },
    {
     "cell_type": "code",
     "collapsed": false,
     "input": [
      "#concurrance vs a\n",
      "def ConvsTau(qstate,a):\n",
      "    t=5;tau=8.0\n",
      "    nu = t/(2.0*tau); mu = sqrt((4*a*tau)**2-1)\n",
      "    gamma = exp(-nu)*(np.cos(nu*mu)+np.sin(nu*mu)/mu)\n",
      "      \n",
      "    K1 = sqrt((1+gamma)/2)*qeye(2) ; K2 = sqrt((1-gamma)/2)*sigmax()\n",
      "    M1 = tensor(K1,K1); M2 = tensor(K2,K2); M3 = tensor(K1,K2); M4 = tensor(K2,K1)\n",
      "    dstate = M1*qstate*M1+M2*qstate*M2+M3*qstate*M3+M4*qstate*M4\n",
      "    return entropy_vn(dstate)\n",
      "\n",
      "qa=[]\n",
      "for a in np.arange(1,100,0.5):\n",
      "    qa.append(ConvsTau(Psi_bell,a))"
     ],
     "language": "python",
     "metadata": {},
     "outputs": [],
     "prompt_number": 6
    },
    {
     "cell_type": "code",
     "collapsed": false,
     "input": [
      "# sinusoidal oscillation is observed. Increasing the noise amplitude allows the concurrance \n",
      "# function to oscillate. Again the oscillations are present only in the non-markovian regime (when tau<=1) and vanishes \n",
      "# in markovian regime (tau=0.25). Similarly by varying tau and keeping 'a' const we can find the mamximum entanglement\n",
      "# present in the given quantum system for a given noise amplitude'a' \n",
      "\n",
      "# The response of the concurrance measure is just a scaled version of the memory kernal. So, the behavior of kernal function is exactly \n",
      "# reflected in the concurrance function.\n",
      "\n",
      "# tau controls the time period of the oscillations. Greater the value of tau longer the oscillations previal. 'a' sets the \n",
      "# frequency of oscilaltions. If the value of 'a' is increased,  more oscillations can be caputured in a given time window.  "
     ],
     "language": "python",
     "metadata": {},
     "outputs": [],
     "prompt_number": 47
    },
    {
     "cell_type": "code",
     "collapsed": false,
     "input": [],
     "language": "python",
     "metadata": {},
     "outputs": [],
     "prompt_number": 11
    },
    {
     "cell_type": "code",
     "collapsed": false,
     "input": [],
     "language": "python",
     "metadata": {},
     "outputs": [],
     "prompt_number": 11
    },
    {
     "cell_type": "code",
     "collapsed": false,
     "input": [],
     "language": "python",
     "metadata": {},
     "outputs": []
    }
   ],
   "metadata": {}
  }
 ]
}