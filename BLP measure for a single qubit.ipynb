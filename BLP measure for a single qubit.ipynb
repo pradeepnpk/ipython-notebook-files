{
 "metadata": {
  "name": ""
 },
 "nbformat": 3,
 "nbformat_minor": 0,
 "worksheets": [
  {
   "cells": [
    {
     "cell_type": "code",
     "collapsed": false,
     "input": [
      "\n",
      "#~~~~~~~~~~~~~~~~~~~~~~From Reference arXiv:1309.5270v3: Non-Markovianity of colored noisy channels~~~~~~~~~~~~~~~~~~~~~~#\n",
      "\n",
      "# RANDOM TELEGRAPH NOISE FOR A SINGLE QUBIT\n",
      "import numpy as np\n",
      "from scipy import misc\n",
      "import matplotlib.pyplot as plt\n",
      "from math import *\n",
      "from qutip import *\n",
      "from cmath import pi, sin, cos, sqrt,exp; from math import radians\n",
      "#import seaborn as sns\n",
      "\n",
      "#Basis states:\n",
      "ket0 = ket2dm(basis(2,0).unit())\n",
      "ket1 = ket2dm(basis(2,1).unit())\n",
      "psip = ket2dm((basis(2,0)+basis(2,1)*1j).unit())\n",
      "psim = ket2dm((basis(2,0)-basis(2,1)*1j).unit())\n",
      "psiplus = ket2dm((basis(2,0)+basis(2,1)).unit())\n",
      "psiminus = ket2dm((basis(2,0)-basis(2,1)).unit())\n",
      "\n",
      "def telegraph_noise(t,Psi,freq,amp):\n",
      "    nu = t*freq; mu = sqrt((2.0*amp*(1/freq))**2-1.0)\n",
      "    gamma = exp(-nu)*(np.cos(nu*mu)+np.sin(nu*mu)/mu)\n",
      "    K1 = sqrt((1+gamma)/2.0)*qeye(2)\n",
      "    K2 = sqrt((1-gamma)/2.0)*sigmaz()\n",
      "    Psi = K1*Psi*K1.dag()+K2*Psi*K2.dag()\n",
      "    return Psi\n",
      "\n",
      "def TraceD(rho1,rho2):\n",
      "    diff = rho1 - rho2\n",
      "    Eval = diff.eigenenergies()\n",
      "    return 0.5*sum(abs(Eval))\n",
      "\n",
      "def Tracedist_rate(t,rho1,rho2,freq,amp):\n",
      "    rho1 = telegraph_noise(t,rho1,freq,amp)\n",
      "    rho2 = telegraph_noise(t,rho2,freq,amp)\n",
      "    return TraceD(rho1,rho2)\n",
      "    \n",
      "#Derevative of trace distance\n",
      "def sigma(t):\n",
      "    rho1 = telegraph_noise(t,psiplus,0.01,0.1)\n",
      "    rho2 = telegraph_noise(t,psiminus,0.01,0.1)\n",
      "    return TraceD(rho1,rho2)\n",
      "\n",
      "# t = np.linspace(0,50,150)\n",
      "# fig = plt.figure(figsize=(8,6))\n",
      "# sns.set_style('ticks')"
     ],
     "language": "python",
     "metadata": {},
     "outputs": [],
     "prompt_number": 14
    },
    {
     "cell_type": "code",
     "collapsed": false,
     "input": [
      "#------------------MARKOVIAN : TRACE DISTANCE-------------------#\n",
      "tm=[]\n",
      "for i in t:\n",
      "    tm.append(Tracedist_rate(i,psip,psim,0.3,0.1))\n",
      "plt.plot(t,tm,label='markovian')\n",
      "ax = fig.add_subplot(111)\n",
      "plt.ylabel(r'$D(\\rho_1,\\rho_2)$');plt.xlabel(r'$t$')\n",
      "plt.show()"
     ],
     "language": "python",
     "metadata": {},
     "outputs": [],
     "prompt_number": 7
    },
    {
     "cell_type": "code",
     "collapsed": false,
     "input": [
      "#------------------NON-MARKOVIAN : TRACE DISTANCE-------------------#\n",
      "tnm=[]\n",
      "for j in t:\n",
      "    tnm.append(Tracedist_rate(j,psip,psim,0.01,0.1))\n",
      "plt.plot(t,tnm)\n",
      "ax.tick_params(axis='x',which='minor',bottom='on')\n",
      "plt.ylabel(r'$D(\\rho_1,\\rho_2)$');plt.xlabel(r'$t$')\n",
      "plt.show()"
     ],
     "language": "python",
     "metadata": {},
     "outputs": [],
     "prompt_number": 21
    },
    {
     "cell_type": "code",
     "collapsed": false,
     "input": [
      "#------------------MARKOVIAN : SIGMA-------------------#\n",
      "markov_diff=[]\n",
      "for k in t:\n",
      "    markov_diff.append(misc.derivative(sigma,k))\n",
      "\n",
      "plt.plot(t,markov_diff);plt.plot([0,50],[0,0],color='black')\n",
      "plt.ylabel(r'$\\sigma(t,\\rho_{1,2})$');plt.xlabel(r'$t$')\n",
      "plt.show()"
     ],
     "language": "python",
     "metadata": {},
     "outputs": [],
     "prompt_number": 19
    },
    {
     "cell_type": "code",
     "collapsed": false,
     "input": [
      "#------------------NON-MARKOVIAN : SIGMA-------------------#\n",
      "nmarkov_diff=[]\n",
      "for l in t:\n",
      "    nmarkov_diff.append(misc.derivative(sigma,l))\n",
      "    \n",
      "plt.plot(t,nmarkov_diff);plt.plot([0,50],[0,0],color='black')\n",
      "plt.ylabel(r'$\\sigma(t,\\rho_{1,2})$');plt.xlabel(r'$t$')\n",
      "plt.show()\n",
      "measure=[]\n",
      "for i in range(len(nmarkov_diff)):\n",
      "    if nmarkov_diff[i]>0:\n",
      "        measure.append(nmarkov_diff[i])\n",
      "print np.trapz(measure)"
     ],
     "language": "python",
     "metadata": {},
     "outputs": [
      {
       "output_type": "stream",
       "stream": "stdout",
       "text": [
        "5.82847919976\n"
       ]
      }
     ],
     "prompt_number": 69
    },
    {
     "cell_type": "code",
     "collapsed": false,
     "input": [
      "#---------------BLP MEASURE: N(\\Phi)-------------#\n",
      "blp=[];amp=0.1\n",
      "freq=np.linspace(0.001,1.0,100)\n",
      "for f in freq:\n",
      "    def sigma(t):\n",
      "        rho1 = telegraph_noise(t,psiplus,f,amp)\n",
      "        rho2 = telegraph_noise(t,psiminus,f,amp)\n",
      "        return TraceD(rho1,rho2)\n",
      "    \n",
      "    nmarkov_diff=[]\n",
      "    for l in t:\n",
      "        nmarkov_diff.append(misc.derivative(sigma,l))\n",
      "    measure=[]\n",
      "    for i in range(len(nmarkov_diff)):\n",
      "        if nmarkov_diff[i]>0:\n",
      "            measure.append(nmarkov_diff[i])\n",
      "    blp.append(np.trapz(measure))   \n"
     ],
     "language": "python",
     "metadata": {},
     "outputs": [],
     "prompt_number": 50
    },
    {
     "cell_type": "code",
     "collapsed": false,
     "input": [
      "plt.plot((freq),blp/max(blp))\n",
      "plt.plot([0.2,0.2],[0,1],'--',color='red')\n",
      "plt.ylabel(r'$N_{Blp}$'); plt.xlabel(r'$\\gamma$')\n",
      "plt.xlim([0,1])\n",
      "plt.show()"
     ],
     "language": "python",
     "metadata": {},
     "outputs": [
      {
       "ename": "NameError",
       "evalue": "name 'freq' is not defined",
       "output_type": "pyerr",
       "traceback": [
        "\u001b[0;31m---------------------------------------------------------------------------\u001b[0m\n\u001b[0;31mNameError\u001b[0m                                 Traceback (most recent call last)",
        "\u001b[0;32m<ipython-input-18-1f9a7208f10f>\u001b[0m in \u001b[0;36m<module>\u001b[0;34m()\u001b[0m\n\u001b[0;32m----> 1\u001b[0;31m \u001b[0mplt\u001b[0m\u001b[0;34m.\u001b[0m\u001b[0mplot\u001b[0m\u001b[0;34m(\u001b[0m\u001b[0;34m(\u001b[0m\u001b[0mfreq\u001b[0m\u001b[0;34m)\u001b[0m\u001b[0;34m,\u001b[0m\u001b[0mblp\u001b[0m\u001b[0;34m/\u001b[0m\u001b[0mmax\u001b[0m\u001b[0;34m(\u001b[0m\u001b[0mblp\u001b[0m\u001b[0;34m)\u001b[0m\u001b[0;34m)\u001b[0m\u001b[0;34m\u001b[0m\u001b[0m\n\u001b[0m\u001b[1;32m      2\u001b[0m \u001b[0mplt\u001b[0m\u001b[0;34m.\u001b[0m\u001b[0mplot\u001b[0m\u001b[0;34m(\u001b[0m\u001b[0;34m[\u001b[0m\u001b[0;36m0.2\u001b[0m\u001b[0;34m,\u001b[0m\u001b[0;36m0.2\u001b[0m\u001b[0;34m]\u001b[0m\u001b[0;34m,\u001b[0m\u001b[0;34m[\u001b[0m\u001b[0;36m0\u001b[0m\u001b[0;34m,\u001b[0m\u001b[0;36m1\u001b[0m\u001b[0;34m]\u001b[0m\u001b[0;34m,\u001b[0m\u001b[0;34m'--'\u001b[0m\u001b[0;34m,\u001b[0m\u001b[0mcolor\u001b[0m\u001b[0;34m=\u001b[0m\u001b[0;34m'red'\u001b[0m\u001b[0;34m)\u001b[0m\u001b[0;34m\u001b[0m\u001b[0m\n\u001b[1;32m      3\u001b[0m \u001b[0mplt\u001b[0m\u001b[0;34m.\u001b[0m\u001b[0mylabel\u001b[0m\u001b[0;34m(\u001b[0m\u001b[0;34mr'$N_{Blp}$'\u001b[0m\u001b[0;34m)\u001b[0m\u001b[0;34m;\u001b[0m \u001b[0mplt\u001b[0m\u001b[0;34m.\u001b[0m\u001b[0mxlabel\u001b[0m\u001b[0;34m(\u001b[0m\u001b[0;34mr'$\\gamma$'\u001b[0m\u001b[0;34m)\u001b[0m\u001b[0;34m\u001b[0m\u001b[0m\n\u001b[1;32m      4\u001b[0m \u001b[0mplt\u001b[0m\u001b[0;34m.\u001b[0m\u001b[0mxlim\u001b[0m\u001b[0;34m(\u001b[0m\u001b[0;34m[\u001b[0m\u001b[0;36m0\u001b[0m\u001b[0;34m,\u001b[0m\u001b[0;36m1\u001b[0m\u001b[0;34m]\u001b[0m\u001b[0;34m)\u001b[0m\u001b[0;34m\u001b[0m\u001b[0m\n\u001b[1;32m      5\u001b[0m \u001b[0mplt\u001b[0m\u001b[0;34m.\u001b[0m\u001b[0mshow\u001b[0m\u001b[0;34m(\u001b[0m\u001b[0;34m)\u001b[0m\u001b[0;34m\u001b[0m\u001b[0m\n",
        "\u001b[0;31mNameError\u001b[0m: name 'freq' is not defined"
       ]
      }
     ],
     "prompt_number": 18
    },
    {
     "cell_type": "code",
     "collapsed": false,
     "input": [
      "# SUBPLOTS\n",
      "fig = plt.figure(figsize=(8,8))\n",
      "sns.set_context('notebook',font_scale=1.5)\n",
      "# sns.set_style('ticks')\n",
      "\n",
      "ax1 = fig.add_subplot(511)\n",
      "plt.plot(t,tm,color='green');\n",
      "plt.ylabel(r'$D(\\rho_1,\\rho_2)$');plt.xlabel(r'$t$')\n",
      "ax2 = fig.add_subplot(512)\n",
      "plt.plot(t,tnm);plt.plot([0,50],[0,0],color='black')\n",
      "plt.ylabel(r'$D(\\rho_1,\\rho_2)$');plt.xlabel(r'$t$')\n",
      "ax3 = fig.add_subplot(513)\n",
      "plt.plot(t,markov_diff,color='green');plt.plot([0,50],[0,0],color='black')\n",
      "plt.ylabel(r'$\\sigma(t,\\rho_{1,2})$');plt.xlabel(r'$t$')\n",
      "ax4 = fig.add_subplot(514)\n",
      "plt.plot(t,nmarkov_diff);plt.plot([0,50],[0,0],color='black')\n",
      "plt.ylabel(r'$\\sigma(t,\\rho_{1,2})$');plt.xlabel(r'$t$')\n",
      "ax5 = fig.add_subplot(515)\n",
      "plt.plot((freq),blp/max(blp))\n",
      "plt.plot([0.2,0.2],[0,1],'--',color='red')\n",
      "plt.ylabel(r'$N_{Blp}$'); plt.xlabel(r'$\\gamma$')\n",
      "sns.despine()\n",
      "plt.show()"
     ],
     "language": "python",
     "metadata": {},
     "outputs": [],
     "prompt_number": 80
    },
    {
     "cell_type": "code",
     "collapsed": false,
     "input": [],
     "language": "python",
     "metadata": {},
     "outputs": [],
     "prompt_number": 409
    },
    {
     "cell_type": "code",
     "collapsed": false,
     "input": [],
     "language": "python",
     "metadata": {},
     "outputs": [],
     "prompt_number": 440
    },
    {
     "cell_type": "code",
     "collapsed": false,
     "input": [],
     "language": "python",
     "metadata": {},
     "outputs": []
    }
   ],
   "metadata": {}
  }
 ]
}